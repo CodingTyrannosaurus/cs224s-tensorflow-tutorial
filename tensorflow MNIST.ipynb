{
 "cells": [
  {
   "cell_type": "markdown",
   "metadata": {},
   "source": [
    "# Learning how to classify digits using Single Layer Neural Network"
   ]
  },
  {
   "cell_type": "markdown",
   "metadata": {},
   "source": [
    "The MNIST data is hosted on Yann LeCun's website. If you are copying and pasting in the code from this tutorial, start here with these two lines of code which will download and read in the data automatically"
   ]
  },
  {
   "cell_type": "code",
   "execution_count": 1,
   "metadata": {
    "collapsed": false
   },
   "outputs": [
    {
     "name": "stdout",
     "output_type": "stream",
     "text": [
      "Extracting MNIST_data/train-images-idx3-ubyte.gz\n",
      "Extracting MNIST_data/train-labels-idx1-ubyte.gz\n",
      "Extracting MNIST_data/t10k-images-idx3-ubyte.gz\n",
      "Extracting MNIST_data/t10k-labels-idx1-ubyte.gz\n"
     ]
    }
   ],
   "source": [
    "from tensorflow.examples.tutorials.mnist import input_data\n",
    "mnist = input_data.read_data_sets(\"MNIST_data/\", one_hot=True)"
   ]
  },
  {
   "cell_type": "markdown",
   "metadata": {},
   "source": [
    "The MNIST data is split into three parts: 55,000 data points of training data (mnist.train), 10,000 points of test data (mnist.test), and 5,000 points of validation data (mnist.validation). This split is very important: it's essential in machine learning that we have separate data which we don't learn from so that we can make sure that what we've learned actually generalizes!\n",
    "\n",
    "As mentioned earlier, every MNIST data point has two parts: an image of a handwritten digit and a corresponding label. We'll call the images \"x\" and the labels \"y\". Both the training set and test set contain images and their corresponding labels; for example the training images are mnist.train.images and the training labels are mnist.train.labels.\n",
    "\n",
    "Each image is 28 pixels by 28 pixels. We can interpret this as a big array of numbers."
   ]
  },
  {
   "cell_type": "markdown",
   "metadata": {},
   "source": [
    "Let's start with importing tensorflow"
   ]
  },
  {
   "cell_type": "code",
   "execution_count": 2,
   "metadata": {
    "collapsed": true
   },
   "outputs": [],
   "source": [
    "import tensorflow as tf"
   ]
  },
  {
   "cell_type": "markdown",
   "metadata": {},
   "source": [
    "First of all, we need a placeholder where we will feed in the data. Next, we will also need two varaibles: W and b for the weights and biases that we will be learning"
   ]
  },
  {
   "cell_type": "code",
   "execution_count": 3,
   "metadata": {
    "collapsed": true
   },
   "outputs": [],
   "source": [
    "x = tf.placeholder(tf.float32, [None, 784], name=\"x\")\n",
    "W = tf.Variable(tf.zeros([784, 10]), name=\"W\")\n",
    "b = tf.Variable(tf.zeros([10]), name=\"b\")\n"
   ]
  },
  {
   "cell_type": "markdown",
   "metadata": {},
   "source": [
    "Since we are building the computation graph of a single layer neural network, we can use the inbuilt functions that tensorflow has to offer to do the matrix multiplication and addition and then finally passing it through a softmax to get the probabilities of the input images belonging to various classes. "
   ]
  },
  {
   "cell_type": "markdown",
   "metadata": {},
   "source": [
    "We create another placeholder `y_` which would contain the actual classes of the image that we have fed in"
   ]
  },
  {
   "cell_type": "code",
   "execution_count": 4,
   "metadata": {
    "collapsed": true
   },
   "outputs": [],
   "source": [
    "y = tf.nn.softmax(tf.matmul(x, W) + b)\n",
    "y_ = tf.placeholder(tf.float32, [None, 10], name='y_')"
   ]
  },
  {
   "cell_type": "markdown",
   "metadata": {},
   "source": [
    "Finally, let us use the cross entrophy loss to define how we are going to calculate the error"
   ]
  },
  {
   "cell_type": "code",
   "execution_count": 5,
   "metadata": {
    "collapsed": true
   },
   "outputs": [],
   "source": [
    "cross_entropy = tf.reduce_mean(-tf.reduce_sum(y_ * tf.log(y), reduction_indices=[1]))"
   ]
  },
  {
   "cell_type": "markdown",
   "metadata": {},
   "source": [
    "Now, we go ahead and define the trainingOp for our graph that will be responsible for optimizing the Neural Network"
   ]
  },
  {
   "cell_type": "code",
   "execution_count": 6,
   "metadata": {
    "collapsed": true
   },
   "outputs": [],
   "source": [
    "train_step = tf.train.GradientDescentOptimizer(0.5).minimize(cross_entropy)\n"
   ]
  },
  {
   "cell_type": "markdown",
   "metadata": {},
   "source": [
    "We are now officially done with implementing the computation graph. Let's go ahead and create a Tensorflow session that we will use to run our compute graph"
   ]
  },
  {
   "cell_type": "code",
   "execution_count": 7,
   "metadata": {
    "collapsed": true
   },
   "outputs": [],
   "source": [
    "sess = tf.InteractiveSession()\n"
   ]
  },
  {
   "cell_type": "markdown",
   "metadata": {},
   "source": [
    "The next thing that we want to do is to initialize the variables defined in the compute graph"
   ]
  },
  {
   "cell_type": "code",
   "execution_count": 8,
   "metadata": {
    "collapsed": true
   },
   "outputs": [],
   "source": [
    "tf.global_variables_initializer().run()\n"
   ]
  },
  {
   "cell_type": "markdown",
   "metadata": {},
   "source": [
    "Create a writer that you can write to and use it for tensorboard. More on this later."
   ]
  },
  {
   "cell_type": "code",
   "execution_count": 9,
   "metadata": {
    "collapsed": true
   },
   "outputs": [],
   "source": [
    "writer = tf.summary.FileWriter('./graphs', sess.graph)\n"
   ]
  },
  {
   "cell_type": "markdown",
   "metadata": {},
   "source": [
    "Let us train for 1000 iterations"
   ]
  },
  {
   "cell_type": "code",
   "execution_count": 10,
   "metadata": {
    "collapsed": true
   },
   "outputs": [],
   "source": [
    "for _ in range(1000):\n",
    "  batch_xs, batch_ys = mnist.train.next_batch(100)\n",
    "  sess.run(train_step, feed_dict={x: batch_xs, y_: batch_ys})"
   ]
  },
  {
   "cell_type": "code",
   "execution_count": 11,
   "metadata": {
    "collapsed": true
   },
   "outputs": [],
   "source": [
    "writer.close()"
   ]
  },
  {
   "cell_type": "markdown",
   "metadata": {},
   "source": [
    "Finally, let's calculate the error rate"
   ]
  },
  {
   "cell_type": "code",
   "execution_count": 12,
   "metadata": {
    "collapsed": false
   },
   "outputs": [
    {
     "name": "stdout",
     "output_type": "stream",
     "text": [
      "91.6599988937\n"
     ]
    }
   ],
   "source": [
    "correct_prediction = tf.equal(tf.argmax(y,1), tf.argmax(y_,1))\n",
    "accuracy = tf.reduce_mean(tf.cast(correct_prediction, tf.float32))\n",
    "print(sess.run(accuracy, feed_dict={x: mnist.test.images, y_: mnist.test.labels}) * 100)"
   ]
  },
  {
   "cell_type": "markdown",
   "metadata": {
    "collapsed": true
   },
   "source": [
    "# RNN"
   ]
  },
  {
   "cell_type": "code",
   "execution_count": 13,
   "metadata": {
    "collapsed": true
   },
   "outputs": [],
   "source": [
    "# Parameters\n",
    "learning_rate = 0.001\n",
    "training_iters = 100000\n",
    "batch_size = 128\n",
    "display_step = 10\n",
    "\n",
    "# Network Parameters\n",
    "n_input = 28 # MNIST data input (img shape: 28*28)\n",
    "n_steps = 28 # timesteps\n",
    "n_hidden = 128 # hidden layer num of features\n",
    "n_classes = 10 # MNIST total classes (0-9 digits)\n",
    "\n",
    "from tensorflow.contrib import rnn"
   ]
  },
  {
   "cell_type": "code",
   "execution_count": 18,
   "metadata": {
    "collapsed": true
   },
   "outputs": [],
   "source": []
  },
  {
   "cell_type": "code",
   "execution_count": 23,
   "metadata": {
    "collapsed": true
   },
   "outputs": [],
   "source": []
  },
  {
   "cell_type": "code",
   "execution_count": 42,
   "metadata": {
    "collapsed": false,
    "scrolled": false
   },
   "outputs": [],
   "source": [
    "tf.reset_default_graph()\n",
    "\n",
    "# tf Graph input\n",
    "x = tf.placeholder(\"float\", [None, n_steps, n_input])\n",
    "y = tf.placeholder(\"float\", [None, n_classes])\n",
    "\n",
    "# Define weights\n",
    "weights = {\n",
    "    'out': tf.Variable(tf.random_normal([n_hidden, n_classes]))\n",
    "}\n",
    "biases = {\n",
    "    'out': tf.Variable(tf.random_normal([n_classes]))\n",
    "}\n",
    "\n",
    "def RNN(x, seq_lens, weights, biases):\n",
    "\n",
    "    # Prepare data shape to match `rnn` function requirements\n",
    "    # Current data input shape: (batch_size, n_steps, n_input)\n",
    "    # Required shape: 'n_steps' tensors list of shape (batch_size, n_input)\n",
    "\n",
    "    # Unstack to get a list of 'n_steps' tensors of shape (batch_size, n_input)\n",
    "    #x = tf.unstack(x, n_steps, 1)\n",
    "\n",
    "    # Define a lstm cell with tensorflow\n",
    "    cell = tf.contrib.rnn.GRUCell(n_hidden) \n",
    "\n",
    "    # Roll over data. Note that seq length isn't required here \n",
    "    outputs, last_state = tf.nn.dynamic_rnn(cell, x, dtype=tf.float32) \n",
    "    \n",
    "    # We won't have to do this for the HW, but since we want ONLY the last output, we can tf.gather it\n",
    "    outputs = tf.transpose(outputs, [1, 0, 2])\n",
    "    last_output = tf.gather(outputs, int(outputs.get_shape()[0]) - 1)\n",
    "\n",
    "    # Linear activation, using rnn inner loop last output\n",
    "    return tf.matmul(last_output, weights['out']) + biases['out']\n",
    "\n",
    "pred = RNN(x, seq_lens, weights, biases)\n",
    "\n",
    "# Define loss and optimizer\n",
    "cost = tf.reduce_mean(tf.nn.softmax_cross_entropy_with_logits(logits=pred, labels=y))\n",
    "optimizer = tf.train.AdamOptimizer(learning_rate=learning_rate).minimize(cost)\n",
    "\n",
    "# Evaluate model\n",
    "correct_pred = tf.equal(tf.argmax(pred,1), tf.argmax(y,1))\n",
    "accuracy = tf.reduce_mean(tf.cast(correct_pred, tf.float32))"
   ]
  },
  {
   "cell_type": "code",
   "execution_count": 43,
   "metadata": {
    "collapsed": false
   },
   "outputs": [
    {
     "name": "stdout",
     "output_type": "stream",
     "text": [
      "Iter 1280, Minibatch Loss= 1.866238, Training Accuracy= 0.32812\n",
      "Iter 2560, Minibatch Loss= 1.456627, Training Accuracy= 0.55469\n",
      "Iter 3840, Minibatch Loss= 1.342952, Training Accuracy= 0.60938\n",
      "Iter 5120, Minibatch Loss= 1.096903, Training Accuracy= 0.60938\n",
      "Iter 6400, Minibatch Loss= 0.994761, Training Accuracy= 0.68750\n",
      "Iter 7680, Minibatch Loss= 0.832612, Training Accuracy= 0.78906\n",
      "Iter 8960, Minibatch Loss= 0.678093, Training Accuracy= 0.77344\n",
      "Iter 10240, Minibatch Loss= 0.560492, Training Accuracy= 0.82031\n",
      "Iter 11520, Minibatch Loss= 0.757103, Training Accuracy= 0.72656\n",
      "Iter 12800, Minibatch Loss= 0.386088, Training Accuracy= 0.88281\n",
      "Iter 14080, Minibatch Loss= 0.481685, Training Accuracy= 0.82812\n",
      "Iter 15360, Minibatch Loss= 0.335150, Training Accuracy= 0.87500\n",
      "Iter 16640, Minibatch Loss= 0.200314, Training Accuracy= 0.94531\n",
      "Iter 17920, Minibatch Loss= 0.474601, Training Accuracy= 0.85156\n",
      "Iter 19200, Minibatch Loss= 0.323833, Training Accuracy= 0.89062\n",
      "Iter 20480, Minibatch Loss= 0.196211, Training Accuracy= 0.96094\n",
      "Iter 21760, Minibatch Loss= 0.290127, Training Accuracy= 0.92188\n",
      "Iter 23040, Minibatch Loss= 0.341101, Training Accuracy= 0.89844\n",
      "Iter 24320, Minibatch Loss= 0.243207, Training Accuracy= 0.91406\n",
      "Iter 25600, Minibatch Loss= 0.194513, Training Accuracy= 0.95312\n",
      "Iter 26880, Minibatch Loss= 0.234851, Training Accuracy= 0.91406\n",
      "Iter 28160, Minibatch Loss= 0.197104, Training Accuracy= 0.93750\n",
      "Iter 29440, Minibatch Loss= 0.102111, Training Accuracy= 0.95312\n",
      "Iter 30720, Minibatch Loss= 0.302155, Training Accuracy= 0.91406\n",
      "Iter 32000, Minibatch Loss= 0.256272, Training Accuracy= 0.90625\n",
      "Iter 33280, Minibatch Loss= 0.242725, Training Accuracy= 0.94531\n",
      "Iter 34560, Minibatch Loss= 0.200751, Training Accuracy= 0.93750\n",
      "Iter 35840, Minibatch Loss= 0.246289, Training Accuracy= 0.92188\n",
      "Iter 37120, Minibatch Loss= 0.128625, Training Accuracy= 0.96875\n",
      "Iter 38400, Minibatch Loss= 0.104990, Training Accuracy= 0.97656\n",
      "Iter 39680, Minibatch Loss= 0.167845, Training Accuracy= 0.96094\n",
      "Iter 40960, Minibatch Loss= 0.188935, Training Accuracy= 0.93750\n",
      "Iter 42240, Minibatch Loss= 0.217222, Training Accuracy= 0.96094\n",
      "Iter 43520, Minibatch Loss= 0.146302, Training Accuracy= 0.93750\n",
      "Iter 44800, Minibatch Loss= 0.165001, Training Accuracy= 0.91406\n",
      "Iter 46080, Minibatch Loss= 0.187253, Training Accuracy= 0.93750\n",
      "Iter 47360, Minibatch Loss= 0.169796, Training Accuracy= 0.94531\n",
      "Iter 48640, Minibatch Loss= 0.165675, Training Accuracy= 0.93750\n",
      "Iter 49920, Minibatch Loss= 0.053655, Training Accuracy= 0.99219\n",
      "Iter 51200, Minibatch Loss= 0.087773, Training Accuracy= 0.97656\n",
      "Iter 52480, Minibatch Loss= 0.169793, Training Accuracy= 0.96875\n",
      "Iter 53760, Minibatch Loss= 0.123419, Training Accuracy= 0.96094\n",
      "Iter 55040, Minibatch Loss= 0.210945, Training Accuracy= 0.94531\n",
      "Iter 56320, Minibatch Loss= 0.170681, Training Accuracy= 0.94531\n",
      "Iter 57600, Minibatch Loss= 0.086153, Training Accuracy= 0.96094\n",
      "Iter 58880, Minibatch Loss= 0.085863, Training Accuracy= 0.96875\n",
      "Iter 60160, Minibatch Loss= 0.123387, Training Accuracy= 0.96094\n",
      "Iter 61440, Minibatch Loss= 0.165503, Training Accuracy= 0.91406\n",
      "Iter 62720, Minibatch Loss= 0.061062, Training Accuracy= 0.98438\n",
      "Iter 64000, Minibatch Loss= 0.116305, Training Accuracy= 0.96094\n",
      "Iter 65280, Minibatch Loss= 0.098630, Training Accuracy= 0.96875\n",
      "Iter 66560, Minibatch Loss= 0.120966, Training Accuracy= 0.96094\n",
      "Iter 67840, Minibatch Loss= 0.286717, Training Accuracy= 0.92969\n",
      "Iter 69120, Minibatch Loss= 0.059476, Training Accuracy= 0.99219\n",
      "Iter 70400, Minibatch Loss= 0.078699, Training Accuracy= 0.95312\n",
      "Iter 71680, Minibatch Loss= 0.077336, Training Accuracy= 0.98438\n",
      "Iter 72960, Minibatch Loss= 0.123684, Training Accuracy= 0.94531\n",
      "Iter 74240, Minibatch Loss= 0.126471, Training Accuracy= 0.95312\n",
      "Iter 75520, Minibatch Loss= 0.084816, Training Accuracy= 0.97656\n",
      "Iter 76800, Minibatch Loss= 0.103623, Training Accuracy= 0.96094\n",
      "Iter 78080, Minibatch Loss= 0.098853, Training Accuracy= 0.96094\n",
      "Iter 79360, Minibatch Loss= 0.083643, Training Accuracy= 0.97656\n",
      "Iter 80640, Minibatch Loss= 0.131444, Training Accuracy= 0.96094\n",
      "Iter 81920, Minibatch Loss= 0.174027, Training Accuracy= 0.92969\n",
      "Iter 83200, Minibatch Loss= 0.149191, Training Accuracy= 0.96094\n",
      "Iter 84480, Minibatch Loss= 0.125878, Training Accuracy= 0.96875\n",
      "Iter 85760, Minibatch Loss= 0.062978, Training Accuracy= 0.99219\n",
      "Iter 87040, Minibatch Loss= 0.061748, Training Accuracy= 0.99219\n",
      "Iter 88320, Minibatch Loss= 0.072715, Training Accuracy= 0.97656\n",
      "Iter 89600, Minibatch Loss= 0.080121, Training Accuracy= 0.97656\n",
      "Iter 90880, Minibatch Loss= 0.086867, Training Accuracy= 0.96094\n",
      "Iter 92160, Minibatch Loss= 0.212701, Training Accuracy= 0.96094\n",
      "Iter 93440, Minibatch Loss= 0.080855, Training Accuracy= 0.97656\n",
      "Iter 94720, Minibatch Loss= 0.070171, Training Accuracy= 0.97656\n",
      "Iter 96000, Minibatch Loss= 0.147334, Training Accuracy= 0.96094\n",
      "Iter 97280, Minibatch Loss= 0.095427, Training Accuracy= 0.96875\n",
      "Iter 98560, Minibatch Loss= 0.082078, Training Accuracy= 0.98438\n",
      "Iter 99840, Minibatch Loss= 0.140424, Training Accuracy= 0.93750\n",
      "Optimization Finished!\n",
      "('Testing Accuracy:', 0.97060001)\n"
     ]
    }
   ],
   "source": [
    "# Initializing the variables\n",
    "init = tf.global_variables_initializer()\n",
    "\n",
    "# Launch the graph\n",
    "with tf.Session() as sess:\n",
    "    sess.run(init)\n",
    "    step = 1\n",
    "    # Keep training until reach max iterations\n",
    "    while step * batch_size < training_iters:\n",
    "        batch_x, batch_y = mnist.train.next_batch(batch_size)\n",
    "        batch_seq_lens = [n_steps]*batch_size\n",
    "        \n",
    "        # Reshape data to get 28 seq of 28 elements\n",
    "        batch_x = batch_x.reshape((batch_size, n_steps, n_input))\n",
    "        # Run optimization op (backprop)\n",
    "        sess.run(optimizer, feed_dict={x: batch_x, y: batch_y})\n",
    "        if step % display_step == 0:\n",
    "            # Calculate batch accuracy\n",
    "            acc = sess.run(accuracy, feed_dict={x: batch_x, y: batch_y})\n",
    "            # Calculate batch loss\n",
    "            loss = sess.run(cost, feed_dict={x: batch_x, y: batch_y})\n",
    "            print(\"Iter \" + str(step*batch_size) + \", Minibatch Loss= \" + \\\n",
    "                  \"{:.6f}\".format(loss) + \", Training Accuracy= \" + \\\n",
    "                  \"{:.5f}\".format(acc))\n",
    "        step += 1\n",
    "    print(\"Optimization Finished!\")\n",
    "\n",
    "    # Calculate accuracy for mnist test images\n",
    "    test_data = mnist.test.images.reshape((-1, n_steps, n_input))\n",
    "    test_label = mnist.test.labels\n",
    "    print(\"Testing Accuracy:\", \\\n",
    "        sess.run(accuracy, feed_dict={x: test_data, y: test_label}))"
   ]
  },
  {
   "cell_type": "code",
   "execution_count": null,
   "metadata": {
    "collapsed": true
   },
   "outputs": [],
   "source": []
  }
 ],
 "metadata": {
  "kernelspec": {
   "display_name": "Python 2",
   "language": "python",
   "name": "python2"
  },
  "language_info": {
   "codemirror_mode": {
    "name": "ipython",
    "version": 2
   },
   "file_extension": ".py",
   "mimetype": "text/x-python",
   "name": "python",
   "nbconvert_exporter": "python",
   "pygments_lexer": "ipython2",
   "version": "2.7.12"
  }
 },
 "nbformat": 4,
 "nbformat_minor": 2
}
